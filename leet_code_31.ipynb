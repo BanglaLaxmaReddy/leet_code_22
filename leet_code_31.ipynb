{
 "cells": [
  {
   "cell_type": "code",
   "execution_count": null,
   "id": "31197430",
   "metadata": {},
   "outputs": [],
   "source": [
    "def reorderList(self, head: Optional[ListNode]) -> None:\n",
    "        \"\"\"\n",
    "        Do not return anything, modify head in-place instead.\n",
    "        \"\"\"\n",
    "        \n",
    "        if not head or not head.next or not head.next.next:\n",
    "            return\n",
    "\n",
    "        q = deque()\n",
    "        node = head\n",
    "        while True:\n",
    "            node = node.next\n",
    "            if not node:\n",
    "                break\n",
    "            q.append(node)\n",
    "        while q:\n",
    "            if head:\n",
    "                temp = q.pop()\n",
    "                head.next=temp\n",
    "                head=head.next\n",
    "            if head and q:\n",
    "                temp = q.popleft()\n",
    "                head.next=temp\n",
    "                head=head.next\n",
    "        head.next = None"
   ]
  }
 ],
 "metadata": {
  "kernelspec": {
   "display_name": "Python 3",
   "language": "python",
   "name": "python3"
  },
  "language_info": {
   "codemirror_mode": {
    "name": "ipython",
    "version": 3
   },
   "file_extension": ".py",
   "mimetype": "text/x-python",
   "name": "python",
   "nbconvert_exporter": "python",
   "pygments_lexer": "ipython3",
   "version": "3.8.8"
  }
 },
 "nbformat": 4,
 "nbformat_minor": 5
}
