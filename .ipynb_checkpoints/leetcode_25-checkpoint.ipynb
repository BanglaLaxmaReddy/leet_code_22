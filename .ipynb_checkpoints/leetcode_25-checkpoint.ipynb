{
 "cells": [
  {
   "cell_type": "code",
   "execution_count": null,
   "id": "72f79f38",
   "metadata": {},
   "outputs": [],
   "source": [
    "def evalRPN(self, tokens: List[str]) -> int:\n",
    "        stack=[]\n",
    "        operations=[\"+\",\"-\",\"*\",\"/\"]\n",
    "        for token in tokens:\n",
    "            if token in operations:\n",
    "                operand2=stack.pop()\n",
    "                operand1=stack.pop()\n",
    "\n",
    "                if token == \"+\":\n",
    "                    sum=operand1+operand2\n",
    "                elif token == \"-\":\n",
    "                    sum=operand1-operand2\n",
    "                elif token == \"*\":\n",
    "                    sum=operand1*operand2\n",
    "                elif token==\"/\":\n",
    "                    sum =int(operand1/operand2)\n",
    "                stack.append(sum)\n",
    "            else:\n",
    "                stack.append(int(token))\n",
    "        \n",
    "        return stack[0]"
   ]
  }
 ],
 "metadata": {
  "kernelspec": {
   "display_name": "Python 3",
   "language": "python",
   "name": "python3"
  },
  "language_info": {
   "codemirror_mode": {
    "name": "ipython",
    "version": 3
   },
   "file_extension": ".py",
   "mimetype": "text/x-python",
   "name": "python",
   "nbconvert_exporter": "python",
   "pygments_lexer": "ipython3",
   "version": "3.8.8"
  }
 },
 "nbformat": 4,
 "nbformat_minor": 5
}
