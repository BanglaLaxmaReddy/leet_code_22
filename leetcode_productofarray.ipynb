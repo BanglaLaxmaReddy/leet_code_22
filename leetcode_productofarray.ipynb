{
 "cells": [
  {
   "cell_type": "code",
   "execution_count": 5,
   "id": "7110b7eb",
   "metadata": {
    "scrolled": true
   },
   "outputs": [],
   "source": [
    "def product_except_self(nums):\n",
    "    n = len(nums)\n",
    "\n",
    "    # Initialize two arrays to store products to the left and right of each element\n",
    "    left_products = [1] * n\n",
    "    right_products = [1] * n\n",
    "   \n",
    "\n",
    "    # Calculate products to the left of each element\n",
    "    left_product = 1\n",
    "    for i in range(1, n):\n",
    "        left_product *= nums[i - 1]\n",
    "        left_products[i] = left_product\n",
    "      \n",
    "    \n",
    "\n",
    "    # Calculate products to the right of each element\n",
    "    right_product = 1\n",
    "    for i in range(n - 2, -1, -1):\n",
    "        right_product *= nums[i + 1]\n",
    "        right_products[i] = right_product\n",
    "        \n",
    "\n",
    "    # Calculate the final result by multiplying left and right products for each element\n",
    "    result = [left_products[i] * right_products[i] for i in range(n)]\n",
    "    print(result)\n",
    "\n",
    "    return result\n",
    "\n"
   ]
  },
  {
   "cell_type": "code",
   "execution_count": null,
   "id": "6b490df8",
   "metadata": {},
   "outputs": [],
   "source": []
  },
  {
   "cell_type": "code",
   "execution_count": null,
   "id": "30845974",
   "metadata": {},
   "outputs": [],
   "source": []
  }
 ],
 "metadata": {
  "kernelspec": {
   "display_name": "Python 3",
   "language": "python",
   "name": "python3"
  },
  "language_info": {
   "codemirror_mode": {
    "name": "ipython",
    "version": 3
   },
   "file_extension": ".py",
   "mimetype": "text/x-python",
   "name": "python",
   "nbconvert_exporter": "python",
   "pygments_lexer": "ipython3",
   "version": "3.8.8"
  }
 },
 "nbformat": 4,
 "nbformat_minor": 5
}
